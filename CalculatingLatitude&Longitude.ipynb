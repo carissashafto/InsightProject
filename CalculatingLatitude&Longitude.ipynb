{
 "cells": [
  {
   "cell_type": "markdown",
   "metadata": {},
   "source": [
    "## Adding in Specific Location and Latitude/Longitude"
   ]
  },
  {
   "cell_type": "code",
   "execution_count": null,
   "metadata": {},
   "outputs": [],
   "source": [
    "import pandas as pd\n",
    "from geopy.geocoders import Nominatim\n",
    "geolocator = Nominatim()\n",
    "\n",
    "df = pd.read_csv('filelocation')"
   ]
  },
  {
   "cell_type": "markdown",
   "metadata": {},
   "source": [
    "The data was run 100 rows at a time because the geopy code can only collect one latitute/longitude per second. If it goes too long, it times out. "
   ]
  },
  {
   "cell_type": "code",
   "execution_count": null,
   "metadata": {},
   "outputs": [],
   "source": [
    "#first 100 rows\n",
    "first = df.loc[0:100, :]\n",
    "\n",
    "#overwrite warning message: \"A value is trying to be set on a copy of a slice from a DataFrame\"\n",
    "pd.options.mode.chained_assignment = None \n",
    "\n",
    "f = lambda l: geolocator.geocode(l).longitude if geolocator.geocode(l) is not None else None\n",
    "g = lambda l: geolocator.geocode(l).latitude if geolocator.geocode(l) is not None else None\n",
    "first['Long'] = first['Location'].apply(f)\n",
    "first['Lat'] = first['Location'].apply(g)"
   ]
  },
  {
   "cell_type": "code",
   "execution_count": null,
   "metadata": {},
   "outputs": [],
   "source": [
    "#second 100 rows\n",
    "second = df.loc[101:200, :]\n",
    "\n",
    "f = lambda l: geolocator.geocode(l).longitude if geolocator.geocode(l) is not None else None\n",
    "g = lambda l: geolocator.geocode(l).latitude if geolocator.geocode(l) is not None else None\n",
    "second['Long'] = second['Location'].apply(f)\n",
    "second['Lat'] = second['Location'].apply(g)"
   ]
  },
  {
   "cell_type": "code",
   "execution_count": null,
   "metadata": {},
   "outputs": [],
   "source": [
    "#third 100 rows\n",
    "third = df.loc[201:300, :]\n",
    "\n",
    "f = lambda l: geolocator.geocode(l).longitude if geolocator.geocode(l) is not None else None\n",
    "g = lambda l: geolocator.geocode(l).latitude if geolocator.geocode(l) is not None else None\n",
    "third['Long'] = third['Location'].apply(f)\n",
    "third['Lat'] = third['Location'].apply(g)"
   ]
  },
  {
   "cell_type": "code",
   "execution_count": null,
   "metadata": {},
   "outputs": [],
   "source": [
    "#fourth 100 rows\n",
    "fourth = df.loc[301:400, :] \n",
    "\n",
    "f = lambda l: geolocator.geocode(l).longitude if geolocator.geocode(l) is not None else None\n",
    "g = lambda l: geolocator.geocode(l).latitude if geolocator.geocode(l) is not None else None\n",
    "fourth['Long'] = fourth['Location'].apply(f)\n",
    "fourth['Lat'] = fourth['Location'].apply(g)"
   ]
  },
  {
   "cell_type": "code",
   "execution_count": null,
   "metadata": {},
   "outputs": [],
   "source": [
    "#fifth 100 rows\n",
    "fifth = df.loc[401:500, :]\n",
    "\n",
    "f = lambda l: geolocator.geocode(l).longitude if geolocator.geocode(l) is not None else None\n",
    "g = lambda l: geolocator.geocode(l).latitude if geolocator.geocode(l) is not None else None\n",
    "fifth['Long'] = fifth['Location'].apply(f)\n",
    "fifth['Lat'] = fifth['Location'].apply(g)"
   ]
  },
  {
   "cell_type": "code",
   "execution_count": null,
   "metadata": {},
   "outputs": [],
   "source": [
    "#sixth 100 rows\n",
    "sixth = df.loc[501:600, :]\n",
    "\n",
    "f = lambda l: geolocator.geocode(l).longitude if geolocator.geocode(l) is not None else None\n",
    "g = lambda l: geolocator.geocode(l).latitude if geolocator.geocode(l) is not None else None\n",
    "sixth['Long'] = sixth['Location'].apply(f)\n",
    "sixth['Lat'] = sixth['Location'].apply(g)"
   ]
  },
  {
   "cell_type": "code",
   "execution_count": null,
   "metadata": {},
   "outputs": [],
   "source": [
    "#seventh 100 rows\n",
    "seventh = df.loc[601:700, :]\n",
    "\n",
    "f = lambda l: geolocator.geocode(l).longitude if geolocator.geocode(l) is not None else None\n",
    "g = lambda l: geolocator.geocode(l).latitude if geolocator.geocode(l) is not None else None\n",
    "seventh['Long'] = seventh['Location'].apply(f)\n",
    "seventh['Lat'] = seventh['Location'].apply(g)"
   ]
  },
  {
   "cell_type": "code",
   "execution_count": 14,
   "metadata": {},
   "outputs": [],
   "source": [
    "#eighth 100 rows\n",
    "eighth = df.loc[701:800, :]\n",
    "\n",
    "f = lambda l: geolocator.geocode(l).longitude if geolocator.geocode(l) is not None else None\n",
    "g = lambda l: geolocator.geocode(l).latitude if geolocator.geocode(l) is not None else None\n",
    "eighth['Long'] = eighth['Location'].apply(f)\n",
    "eighth['Lat'] = eighth['Location'].apply(g)"
   ]
  },
  {
   "cell_type": "code",
   "execution_count": 15,
   "metadata": {},
   "outputs": [],
   "source": [
    "#ninth 100 rows\n",
    "ninth = df.loc[801:900, :]\n",
    "\n",
    "f = lambda l: geolocator.geocode(l).longitude if geolocator.geocode(l) is not None else None\n",
    "g = lambda l: geolocator.geocode(l).latitude if geolocator.geocode(l) is not None else None\n",
    "ninth['Long'] = ninth['Location'].apply(f)\n",
    "ninth['Lat'] = ninth['Location'].apply(g)"
   ]
  },
  {
   "cell_type": "code",
   "execution_count": 16,
   "metadata": {},
   "outputs": [],
   "source": [
    "#final rows\n",
    "final = df.loc[901:, :]\n",
    "\n",
    "f = lambda l: geolocator.geocode(l).longitude if geolocator.geocode(l) is not None else None\n",
    "g = lambda l: geolocator.geocode(l).latitude if geolocator.geocode(l) is not None else None\n",
    "final['Long'] = final['Location'].apply(f)\n",
    "final['Lat'] = final['Location'].apply(g)"
   ]
  },
  {
   "cell_type": "code",
   "execution_count": 17,
   "metadata": {},
   "outputs": [],
   "source": [
    "#merge all files into one dataset. \n",
    "full = pd.concat([first, second, third, fourth, fifth, sixth, seventh, eighth, ninth, final], axis=0, ignore_index=True)"
   ]
  }
 ],
 "metadata": {
  "kernelspec": {
   "display_name": "Python 3",
   "language": "python",
   "name": "python3"
  },
  "language_info": {
   "codemirror_mode": {
    "name": "ipython",
    "version": 3
   },
   "file_extension": ".py",
   "mimetype": "text/x-python",
   "name": "python",
   "nbconvert_exporter": "python",
   "pygments_lexer": "ipython3",
   "version": "3.6.4"
  }
 },
 "nbformat": 4,
 "nbformat_minor": 2
}
