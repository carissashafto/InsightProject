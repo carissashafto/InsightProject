{
 "cells": [
  {
   "cell_type": "markdown",
   "metadata": {},
   "source": [
    "## Preparing the data for classification models"
   ]
  },
  {
   "cell_type": "code",
   "execution_count": 11,
   "metadata": {},
   "outputs": [],
   "source": [
    "import pandas as pd\n",
    "import numpy as np\n",
    "\n",
    "df = pd.read_csv('datalocation')\n",
    "\n",
    "df.rename(columns={'Startup or Person': 'TeamSolo'}, inplace=True)\n",
    "df.rename(columns={'Average Score': 'InitScore'}, inplace=True)"
   ]
  },
  {
   "cell_type": "markdown",
   "metadata": {},
   "source": [
    "## Convert Target Variables to Numerical"
   ]
  },
  {
   "cell_type": "code",
   "execution_count": 12,
   "metadata": {},
   "outputs": [],
   "source": [
    "df['CTOnum'] = df['CTO'].astype('int')\n",
    "df['FemNum'] = df['Female'].astype('int')\n",
    "df['Funded'].replace(['Yes','No'],[1,0],inplace=True)\n",
    "df['InitScore']= pd.to_numeric(df['InitScore'])\n",
    "df['SelectionScore']= pd.to_numeric(df['SelectionScore'])\n",
    "\n",
    "#2 means 2+ co-founders, 1 means solo founder\n",
    "df['TeamSolo'].replace(['Team', 'Person'], [2, 1], inplace=True) \n",
    "\n",
    "#replace NaNs with mean or mode \n",
    "df['InitScore'].fillna((df['InitScore'].mean()), inplace=True)\n",
    "df['CTOnum'].fillna((df['CTOnum'].mode()), inplace=True)\n",
    "df['FemNum'].fillna((df['FemNum'].mode()),  inplace=True)\n",
    "df['TeamSolo'].fillna((df['TeamSolo'].mode()), inplace=True)"
   ]
  },
  {
   "cell_type": "markdown",
   "metadata": {},
   "source": [
    "## Calculate distance from NYC to use as 'location' parameter"
   ]
  },
  {
   "cell_type": "code",
   "execution_count": 3,
   "metadata": {},
   "outputs": [],
   "source": [
    "#if there are errors, make sure all Lat and Long have a value\n",
    "from geopy.distance import vincenty\n",
    "\n",
    "#nyc = (40.7306458,-73.9866136)\n",
    "\n",
    "def pdVincenty(row):\n",
    "    return vincenty((row.Lat, row.Long), (40.7306458,-73.9866136)).miles \n",
    "\n",
    "df['dist'] =  df.apply(lambda r: pdVincenty(r), axis=1)"
   ]
  },
  {
   "cell_type": "code",
   "execution_count": 4,
   "metadata": {},
   "outputs": [],
   "source": [
    "df.to_csv('datalocation')"
   ]
  }
 ],
 "metadata": {
  "kernelspec": {
   "display_name": "Python 3",
   "language": "python",
   "name": "python3"
  },
  "language_info": {
   "codemirror_mode": {
    "name": "ipython",
    "version": 3
   },
   "file_extension": ".py",
   "mimetype": "text/x-python",
   "name": "python",
   "nbconvert_exporter": "python",
   "pygments_lexer": "ipython3",
   "version": "3.6.4"
  }
 },
 "nbformat": 4,
 "nbformat_minor": 2
}
