{
 "cells": [
  {
   "cell_type": "markdown",
   "metadata": {},
   "source": [
    "## Who Gets Selected For Funding? - Gradient Boost (random forest)"
   ]
  },
  {
   "cell_type": "code",
   "execution_count": 34,
   "metadata": {},
   "outputs": [],
   "source": [
    "import pandas as pd\n",
    "import numpy as np\n",
    "from sklearn.ensemble import GradientBoostingClassifier as grbst\n",
    "from matplotlib import pyplot\n",
    "from sklearn.model_selection import cross_val_score, StratifiedKFold\n",
    "from sklearn.metrics import f1_score,recall_score, accuracy_score\n",
    "\n",
    "df = pd.read_csv('datalocation')"
   ]
  },
  {
   "cell_type": "markdown",
   "metadata": {},
   "source": [
    "## Training & Test Set"
   ]
  },
  {
   "cell_type": "code",
   "execution_count": 35,
   "metadata": {},
   "outputs": [],
   "source": [
    "#randomly split up train and test\n",
    "numitems = len(df)\n",
    "percenttrain = 0.6\n",
    "numtrain = int(numitems*percenttrain)\n",
    "numtest = numitems - numtrain\n",
    "\n",
    "#scramble up the indices in the df so that it is random\n",
    "df = df.sample(frac=1).reset_index(drop=True)\n",
    "traindf = df[0:numtrain]\n",
    "testdf = df[numtrain:]\n",
    "traindf = traindf.reset_index(drop=True)\n",
    "testdf = testdf.reset_index(drop=True)"
   ]
  },
  {
   "cell_type": "code",
   "execution_count": 36,
   "metadata": {},
   "outputs": [],
   "source": [
    "#use weights to increase 'funded' sample\n",
    "from sklearn.utils.class_weight import compute_sample_weight\n",
    "y = traindf['Funded']\n",
    "weight = compute_sample_weight(class_weight='balanced', y=y)"
   ]
  },
  {
   "cell_type": "markdown",
   "metadata": {},
   "source": [
    "## The Model"
   ]
  },
  {
   "cell_type": "code",
   "execution_count": 37,
   "metadata": {},
   "outputs": [],
   "source": [
    "features = ['CTOnum', 'FemNum', 'TeamSolo', 'dist']\n",
    "trees = 100\n",
    "leafs = 10 #optional parameter\n",
    "rf = grbst(n_estimators=trees, min_samples_leaf=leafs)\n",
    "rtree = rf.fit(traindf[features],traindf['Funded'], sample_weight=weight) \n",
    "\n",
    "#predictions = rf.predict(testdf[features])\n",
    "#use probabilities instead, in order to optimize for recall\n",
    "pred = rf.predict_proba(testdf[features])"
   ]
  },
  {
   "cell_type": "code",
   "execution_count": 38,
   "metadata": {},
   "outputs": [],
   "source": [
    "#convert prediction probabilities to 0's and 1's using threshold of 0.7 instead of default 0.5\n",
    "#if first column < .7, then put 0\n",
    "#if second column > .7, put as 1\n",
    "#if pred[[1]] > .7, 1 else 0\n",
    "pred = pd.DataFrame(pred)\n",
    "predictions = (pred[[0]] < 0.7).astype('int')\n",
    "predictions=predictions.values"
   ]
  },
  {
   "cell_type": "markdown",
   "metadata": {},
   "source": [
    "## Checking Accuracy"
   ]
  },
  {
   "cell_type": "code",
   "execution_count": 40,
   "metadata": {},
   "outputs": [
    {
     "name": "stdout",
     "output_type": "stream",
     "text": [
      "Accuracy: 0.6785714285714286\n",
      "Misclassification/Error Rate 0.32142857142857145\n",
      "True Positive Rate/Recall...most important 0.4\n",
      "False Positive Rate 0.31754874651810583\n",
      "Specificity/True Negatives 0.6824512534818942\n"
     ]
    }
   ],
   "source": [
    "numtrain = len(traindf)\n",
    "numtest = len(testdf)\n",
    "numyes = len(testdf[testdf['Funded'] == 1])\n",
    "numno = len(testdf[testdf['Funded'] == 0])\n",
    "\n",
    "correct = 0\n",
    "misclassification = 0\n",
    "true_positive = 0 #aka sensitivitity or recall\n",
    "false_positive = 0 #type 1 error\n",
    "specificity = 0 #when its no, how often does it say no; true negatives\n",
    "false_negative = 0 #type 2 error\n",
    "predicted_yes = 0\n",
    "\n",
    "for i in range(numtest):\n",
    "    #print('Predicted:', predictions[i], ' Actual:', testdf.loc[numtrain+i]['category'])\n",
    "    if predictions[i] == testdf.loc[i]['Funded']: correct +=1\n",
    "    if predictions[i] != testdf.loc[i]['Funded']: misclassification +=1\n",
    "    if predictions[i] == 1 and testdf.loc[i]['Funded'] ==1: true_positive +=1\n",
    "    if predictions[i] == 1 and testdf.loc[i]['Funded'] ==0: false_positive +=1 \n",
    "    if predictions[i] == 0 and testdf.loc[i]['Funded'] ==0: specificity +=1\n",
    "    if predictions[i] == 0 and testdf.loc[i]['Funded'] ==1: false_negative +=1\n",
    "    if predictions[i] == 1: predicted_yes +=1\n",
    "\n",
    "print('Accuracy:', float(correct)/float(numtest))\n",
    "print('Misclassification/Error Rate', float(misclassification)/float(numtest))\n",
    "print('True Positive Rate/Recall...most important', float(true_positive)/float(numyes))\n",
    "print('False Positive Rate', float(false_positive)/float(numno))\n",
    "print('Specificity/True Negatives', float(specificity)/float(numno))"
   ]
  },
  {
   "cell_type": "markdown",
   "metadata": {},
   "source": [
    "## Plotting Feature Importance"
   ]
  },
  {
   "cell_type": "code",
   "execution_count": 42,
   "metadata": {},
   "outputs": [
    {
     "data": {
      "image/png": "[encoded data removed]",
      "text/plain": [
       "<matplotlib.figure.Figure at 0x1a2042f390>"
      ]
     },
     "metadata": {},
     "output_type": "display_data"
    }
   ],
   "source": [
    "predictors = ['CTOnum','FemNum', 'TeamSolo', 'dist']\n",
    "importances = rf.feature_importances_\n",
    "indices = np.argsort(importances)\n",
    "ylabs = [predictors[i] for i in indices]\n",
    "\n",
    "pyplot.title('Feature Importances')\n",
    "pyplot.barh(range(len(indices)), importances[indices], color='b', align='center')\n",
    "pyplot.yticks(range(len(indices)), ylabs)\n",
    "pyplot.xlabel('Relative Importance')\n",
    "pyplot.show()"
   ]
  },
  {
   "cell_type": "markdown",
   "metadata": {},
   "source": [
    "## Sanity check, including 'InitScore' as a predictor"
   ]
  },
  {
   "cell_type": "code",
   "execution_count": 43,
   "metadata": {},
   "outputs": [],
   "source": [
    "features = ['InitScore', 'CTOnum', 'FemNum', 'TeamSolo', 'dist']\n",
    "trees = 100\n",
    "leafs = 10 #optional parameter\n",
    "rf = grbst(n_estimators=trees, min_samples_leaf=leafs)\n",
    "rtree = rf.fit(traindf[features],traindf['Funded'], sample_weight=weight) \n",
    "\n",
    "#use probabilities, in order to change threshold to optimize for recall\n",
    "pred = rf.predict_proba(testdf[features])"
   ]
  },
  {
   "cell_type": "code",
   "execution_count": 44,
   "metadata": {},
   "outputs": [],
   "source": [
    "#convert prediction probabilities to 0's and 1's using threshold of 0.7 instead of default 0.5\n",
    "#if first column < .7, then put 0\n",
    "#if second column > .7, put as 1\n",
    "#if pred[[1]] > .7, 1 else 0\n",
    "pred = pd.DataFrame(pred)\n",
    "predictions = (pred[[0]] < 0.7).astype('int')\n",
    "predictions=predictions.values"
   ]
  },
  {
   "cell_type": "markdown",
   "metadata": {},
   "source": [
    "## Calculate Accuracy"
   ]
  },
  {
   "cell_type": "code",
   "execution_count": 45,
   "metadata": {},
   "outputs": [
    {
     "name": "stdout",
     "output_type": "stream",
     "text": [
      "Accuracy: 0.8983516483516484\n",
      "Misclassification/Error Rate 0.10164835164835165\n",
      "True Positive Rate/Recall...most important 0.6\n",
      "False Positive Rate 0.09749303621169916\n",
      "Specificity/True Negatives 0.9025069637883009\n"
     ]
    }
   ],
   "source": [
    "numtrain = len(traindf)\n",
    "numtest = len(testdf)\n",
    "numyes = len(testdf[testdf['Funded'] == 1])\n",
    "numno = len(testdf[testdf['Funded'] == 0])\n",
    "\n",
    "correct = 0\n",
    "misclassification = 0\n",
    "true_positive = 0 #aka sensitivitity or recall\n",
    "false_positive = 0 #type 1 error\n",
    "specificity = 0 #when its no, how often does it say no; true negatives\n",
    "false_negative = 0 #type 2 error\n",
    "predicted_yes = 0\n",
    "\n",
    "for i in range(numtest):\n",
    "    #print('Predicted:', predictions[i], ' Actual:', testdf.loc[numtrain+i]['category'])\n",
    "    if predictions[i] == testdf.loc[i]['Funded']: correct +=1\n",
    "    if predictions[i] != testdf.loc[i]['Funded']: misclassification +=1\n",
    "    if predictions[i] == 1 and testdf.loc[i]['Funded'] ==1: true_positive +=1\n",
    "    if predictions[i] == 1 and testdf.loc[i]['Funded'] ==0: false_positive +=1 \n",
    "    if predictions[i] == 0 and testdf.loc[i]['Funded'] ==0: specificity +=1\n",
    "    if predictions[i] == 0 and testdf.loc[i]['Funded'] ==1: false_negative +=1\n",
    "    if predictions[i] == 1: predicted_yes +=1\n",
    "\n",
    "print('Accuracy:', float(correct)/float(numtest))\n",
    "print('Misclassification/Error Rate', float(misclassification)/float(numtest))\n",
    "print('True Positive Rate/Recall...most important', float(true_positive)/float(numyes))\n",
    "print('False Positive Rate', float(false_positive)/float(numno))\n",
    "print('Specificity/True Negatives', float(specificity)/float(numno))"
   ]
  },
  {
   "cell_type": "markdown",
   "metadata": {},
   "source": [
    "## Plotting Feature Importance"
   ]
  },
  {
   "cell_type": "code",
   "execution_count": 46,
   "metadata": {},
   "outputs": [
    {
     "data": {
      "image/png": "[encoded data removed]",
      "text/plain": [
       "<matplotlib.figure.Figure at 0x1a204f09b0>"
      ]
     },
     "metadata": {},
     "output_type": "display_data"
    }
   ],
   "source": [
    "predictors = ['InitScore', 'CTOnum','FemNum', 'TeamSolo', 'dist']\n",
    "importances = rf.feature_importances_\n",
    "indices = np.argsort(importances)\n",
    "ylabs = [predictors[i] for i in indices]\n",
    "\n",
    "pyplot.title('Feature Importances')\n",
    "pyplot.barh(range(len(indices)), importances[indices], color='b', align='center')\n",
    "pyplot.yticks(range(len(indices)), ylabs)\n",
    "pyplot.xlabel('Relative Importance')\n",
    "pyplot.show()"
   ]
  }
 ],
 "metadata": {
  "kernelspec": {
   "display_name": "Python 3",
   "language": "python",
   "name": "python3"
  },
  "language_info": {
   "codemirror_mode": {
    "name": "ipython",
    "version": 3
   },
   "file_extension": ".py",
   "mimetype": "text/x-python",
   "name": "python",
   "nbconvert_exporter": "python",
   "pygments_lexer": "ipython3",
   "version": "3.6.4"
  }
 },
 "nbformat": 4,
 "nbformat_minor": 2
}
