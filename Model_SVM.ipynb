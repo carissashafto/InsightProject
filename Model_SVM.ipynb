{
 "cells": [
  {
   "cell_type": "markdown",
   "metadata": {},
   "source": [
    "## Classification model for predicting funded status - SVM"
   ]
  },
  {
   "cell_type": "code",
   "execution_count": 4,
   "metadata": {},
   "outputs": [],
   "source": [
    "import pandas as pd\n",
    "import numpy as np\n",
    "from matplotlib import pyplot\n",
    "from sklearn.metrics import accuracy_score\n",
    "from sklearn import linear_model, svm, metrics\n",
    "from sklearn.utils.class_weight import compute_sample_weight\n",
    "\n",
    "df = pd.read_csv('filelocation')\n",
    "df = df[['CTOnum','FemNum', 'TeamSolo', 'dist', 'Funded']]"
   ]
  },
  {
   "cell_type": "markdown",
   "metadata": {},
   "source": [
    "## Training & Test Set"
   ]
  },
  {
   "cell_type": "code",
   "execution_count": 5,
   "metadata": {},
   "outputs": [],
   "source": [
    "#randomly split up train and test\n",
    "numitems = len(df)\n",
    "percenttrain = 0.6\n",
    "numtrain = int(numitems*percenttrain)\n",
    "numtest = numitems - numtrain\n",
    "\n",
    "#scramble up the indices in the df so that it is random\n",
    "df = df.sample(frac=1).reset_index(drop=True)\n",
    "traindf = df[0:numtrain]\n",
    "testdf = df[numtrain:]\n",
    "traindf = traindf.reset_index(drop=True)\n",
    "testdf = testdf.reset_index(drop=True)"
   ]
  },
  {
   "cell_type": "markdown",
   "metadata": {},
   "source": [
    "## Setting weights"
   ]
  },
  {
   "cell_type": "code",
   "execution_count": 6,
   "metadata": {},
   "outputs": [],
   "source": [
    "y = traindf['Funded']\n",
    "weight = compute_sample_weight(class_weight='balanced', y=y)"
   ]
  },
  {
   "cell_type": "markdown",
   "metadata": {},
   "source": [
    "## The Model - Support Vector Machine"
   ]
  },
  {
   "cell_type": "code",
   "execution_count": 14,
   "metadata": {},
   "outputs": [],
   "source": [
    "X = traindf[['CTOnum','FemNum', 'TeamSolo', 'dist']]\n",
    "y = traindf['Funded']\n",
    "\n",
    "clf = svm.SVC(probability=True)\n",
    "clf.fit(X, y)  \n",
    "predictions = clf.predict_proba(X)"
   ]
  },
  {
   "cell_type": "code",
   "execution_count": 15,
   "metadata": {},
   "outputs": [],
   "source": [
    "features = ['CTOnum', 'FemNum', 'TeamSolo', 'dist']\n",
    "\n",
    "#use probabilities of predictions, in order to optimize for recall\n",
    "pred =  clf.predict_proba(testdf[features])"
   ]
  },
  {
   "cell_type": "code",
   "execution_count": 16,
   "metadata": {},
   "outputs": [],
   "source": [
    "#convert prediction probabilities to 0's and 1's using threshold of 0.7 instead of default 0.5\n",
    "#if first column < .7, then put 0\n",
    "#if second column > .7, put as 1\n",
    "#if pred[[1]] > .7, 1 else 0\n",
    "pred = pd.DataFrame(pred)\n",
    "predictions = (pred[[0]] < 0.7).astype('int')\n",
    "predictions=predictions.values"
   ]
  },
  {
   "cell_type": "markdown",
   "metadata": {},
   "source": [
    "## Calculate Accuracy"
   ]
  },
  {
   "cell_type": "code",
   "execution_count": null,
   "metadata": {},
   "outputs": [],
   "source": [
    "numtrain = len(traindf)\n",
    "numtest = len(testdf)\n",
    "numyes = len(testdf[testdf['Funded'] == 1])\n",
    "numno = len(testdf[testdf['Funded'] == 0])\n",
    "correct = 0\n",
    "misclassification = 0\n",
    "true_positive = 0 #aka sensitivitity or recall\n",
    "false_positive = 0 #type 1 error\n",
    "specificity = 0 #when its no, how often does it say no; true negatives\n",
    "false_negative = 0 #type 2 error\n",
    "predicted_yes = 0\n",
    "\n",
    "for i in range(numtest):\n",
    "    #print('Predicted:', predictions[i], ' Actual:', testdf.loc[numtrain+i]['category'])\n",
    "    if predictions[i] == testdf.loc[i]['Funded']: correct +=1\n",
    "    if predictions[i] != testdf.loc[i]['Funded']: misclassification +=1\n",
    "    if predictions[i] == 1 and testdf.loc[i]['Funded'] ==1: true_positive +=1\n",
    "    if predictions[i] == 1 and testdf.loc[i]['Funded'] ==0: false_positive +=1 \n",
    "    if predictions[i] == 0 and testdf.loc[i]['Funded'] ==0: specificity +=1\n",
    "    if predictions[i] == 0 and testdf.loc[i]['Funded'] ==1: false_negative +=1\n",
    "    if predictions[i] == 1: predicted_yes +=1\n",
    "\n",
    "print('Accuracy:', float(correct)/float(numtest))\n",
    "print('Misclassification/Error Rate', float(misclassification)/float(numtest))\n",
    "print('True Positive Rate/Recall...most important', float(true_positive)/float(numyes), true_positive, numyes)\n",
    "print('False Positive Rate', float(false_positive)/float(numno))\n",
    "print('Specificity/True Negatives', float(specificity)/float(numno))\n",
    "print('Precision/correct when predict yes', float(true_positive)/float(predicted_yes), true_positive, predicted_yes)\n",
    "print('Prevalence', float(numyes)/float(numtest))"
   ]
  }
 ],
 "metadata": {
  "kernelspec": {
   "display_name": "Python 3",
   "language": "python",
   "name": "python3"
  },
  "language_info": {
   "codemirror_mode": {
    "name": "ipython",
    "version": 3
   },
   "file_extension": ".py",
   "mimetype": "text/x-python",
   "name": "python",
   "nbconvert_exporter": "python",
   "pygments_lexer": "ipython3",
   "version": "3.6.4"
  }
 },
 "nbformat": 4,
 "nbformat_minor": 2
}
